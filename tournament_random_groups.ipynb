{
 "cells": [
  {
   "cell_type": "markdown",
   "id": "1988d3f5",
   "metadata": {},
   "source": [
    "# Overview\n",
    "\n",
    "This is a quick notebook to create random groups for the unofficial tournaments"
   ]
  },
  {
   "cell_type": "code",
   "execution_count": 1,
   "id": "a09d378e",
   "metadata": {},
   "outputs": [],
   "source": [
    "import random\n",
    "\n",
    "random.seed(420)  # set this to whatever number, this just makes things reproducible\n",
    "\n",
    "\n",
    "def create_random_lobbies(players):\n",
    "    if len(players) % 8 != 0:\n",
    "        raise ValueError(f'Player count must be in groups of 8! Currently {len(players)} players')\n",
    "    \n",
    "    available_players = set(players)\n",
    "    lobbies = {}\n",
    "    lobby_num = 1\n",
    "    while available_players:\n",
    "        lobby_players = random.sample(list(available_players), k=8)\n",
    "        available_players = available_players - set(lobby_players)\n",
    "        \n",
    "        \n",
    "        lobbies[lobby_num] = lobby_players\n",
    "        lobby_num += 1\n",
    "    \n",
    "    return lobbies"
   ]
  },
  {
   "cell_type": "markdown",
   "id": "58710f28",
   "metadata": {},
   "source": [
    "## Inputs\n",
    "\n",
    "Each player should be on their own line"
   ]
  },
  {
   "cell_type": "code",
   "execution_count": 2,
   "id": "c6ef87a4",
   "metadata": {},
   "outputs": [],
   "source": [
    "player_string = '''\n",
    "A#123456\n",
    "B#123456\n",
    "C#123456\n",
    "D#123456\n",
    "E#123456\n",
    "F#123456\n",
    "G#123456\n",
    "H#123456\n",
    "A#123457\n",
    "B#123457\n",
    "C#123457\n",
    "D#123457\n",
    "E#123457\n",
    "F#123457\n",
    "G#123457\n",
    "H#123457\n",
    "'''"
   ]
  },
  {
   "cell_type": "markdown",
   "id": "1a50837d",
   "metadata": {},
   "source": [
    "# Output"
   ]
  },
  {
   "cell_type": "code",
   "execution_count": 3,
   "id": "7b3b69c7",
   "metadata": {},
   "outputs": [
    {
     "name": "stdout",
     "output_type": "stream",
     "text": [
      "Num players: 16\n"
     ]
    },
    {
     "data": {
      "text/plain": [
       "['A#123456',\n",
       " 'B#123456',\n",
       " 'C#123456',\n",
       " 'D#123456',\n",
       " 'E#123456',\n",
       " 'F#123456',\n",
       " 'G#123456',\n",
       " 'H#123456',\n",
       " 'A#123457',\n",
       " 'B#123457',\n",
       " 'C#123457',\n",
       " 'D#123457',\n",
       " 'E#123457',\n",
       " 'F#123457',\n",
       " 'G#123457',\n",
       " 'H#123457']"
      ]
     },
     "execution_count": 3,
     "metadata": {},
     "output_type": "execute_result"
    }
   ],
   "source": [
    "players = [x.strip() for x in player_string.split('\\n') if x.strip()]\n",
    "print(f'Num players: {len(players)}')\n",
    "players"
   ]
  },
  {
   "cell_type": "code",
   "execution_count": 4,
   "id": "8f1d9aff",
   "metadata": {},
   "outputs": [
    {
     "data": {
      "text/plain": [
       "{1: ['E#123456',\n",
       "  'G#123457',\n",
       "  'B#123457',\n",
       "  'B#123456',\n",
       "  'A#123456',\n",
       "  'C#123456',\n",
       "  'G#123456',\n",
       "  'E#123457'],\n",
       " 2: ['F#123457',\n",
       "  'C#123457',\n",
       "  'A#123457',\n",
       "  'D#123456',\n",
       "  'H#123457',\n",
       "  'H#123456',\n",
       "  'D#123457',\n",
       "  'F#123456']}"
      ]
     },
     "execution_count": 4,
     "metadata": {},
     "output_type": "execute_result"
    }
   ],
   "source": [
    "lobbies = create_random_lobbies(players)\n",
    "lobbies"
   ]
  },
  {
   "cell_type": "code",
   "execution_count": 5,
   "id": "87d52c7b",
   "metadata": {},
   "outputs": [
    {
     "name": "stdout",
     "output_type": "stream",
     "text": [
      "LOBBY #1\n",
      "\tE#123456\n",
      "\tG#123457\n",
      "\tB#123457\n",
      "\tB#123456\n",
      "\tA#123456\n",
      "\tC#123456\n",
      "\tG#123456\n",
      "\tE#123457\n",
      "\n",
      "\n",
      "LOBBY #2\n",
      "\tF#123457\n",
      "\tC#123457\n",
      "\tA#123457\n",
      "\tD#123456\n",
      "\tH#123457\n",
      "\tH#123456\n",
      "\tD#123457\n",
      "\tF#123456\n",
      "\n",
      "\n"
     ]
    }
   ],
   "source": [
    "for lobby_num, lobby_players in lobbies.items():\n",
    "    print(f'LOBBY #{lobby_num}')\n",
    "    for p in lobby_players:\n",
    "        print(f'\\t{p}')\n",
    "    print('\\n')"
   ]
  }
 ],
 "metadata": {
  "kernelspec": {
   "display_name": "Python 3 (ipykernel)",
   "language": "python",
   "name": "python3"
  },
  "language_info": {
   "codemirror_mode": {
    "name": "ipython",
    "version": 3
   },
   "file_extension": ".py",
   "mimetype": "text/x-python",
   "name": "python",
   "nbconvert_exporter": "python",
   "pygments_lexer": "ipython3",
   "version": "3.9.7"
  }
 },
 "nbformat": 4,
 "nbformat_minor": 5
}
